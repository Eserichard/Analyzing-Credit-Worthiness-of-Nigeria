{
 "cells": [
  {
   "cell_type": "markdown",
   "metadata": {},
   "source": [
    "## Helper Functions"
   ]
  },
  {
   "cell_type": "code",
   "execution_count": 1,
   "metadata": {},
   "outputs": [],
   "source": [
    "import unicodecsv\n",
    "import pprint\n",
    "\n",
    "\n",
    "# Opens the file with the specified filepath. Filepath must be a raw string e.g r'string'\n",
    "def open_file(filepath):\n",
    "    with open(filepath, 'rb') as f:\n",
    "        reader = unicodecsv.reader(f)\n",
    "        return list(reader)   \n",
    "\n",
    "    \n",
    "# Returns the data for the past number of years the user specifies. 'data' must be a list 'no_of_years' must be integer\n",
    "def get_last_eleven_years_data(data, no_of_years):\n",
    "    return data[len(data)-no_of_years:]\n",
    "\n",
    "\n",
    "# Takes a string which is either an empty string or represents a float, and returns a float or None.\n",
    "def parse_maybe_float(i):\n",
    "    if i == '':\n",
    "        return None\n",
    "    else:\n",
    "        return float(i.replace(',',\"\"))\n",
    "\n",
    "    \n",
    "# Takes a string which is either an empty string or represents an int, and returns an int or None.    \n",
    "def parse_maybe_int(i):\n",
    "    if i == '':\n",
    "        return None\n",
    "    else:\n",
    "        return int(float(i.replace(',',\"\")))\n",
    "    \n",
    "\n",
    "# Takes a list of strings which represents an int or empty strings, and returns a list of ints or list of Nones\n",
    "def convert_all_int_or_float(list_of_str,type_to_convert_to):\n",
    "    converted_list = []\n",
    "    if type_to_convert_to == 'int':\n",
    "        for string in list_of_str:\n",
    "            converted_list.append(parse_maybe_int(string))\n",
    "        return converted_list\n",
    "    elif type_to_convert_to == 'float':\n",
    "        for string in list_of_str:\n",
    "            converted_list.append(parse_maybe_float(string))\n",
    "        return converted_list\n",
    "    else:\n",
    "        print('The type argument entered can either be \"int\" or \"float\". Please enter the correct type')\n",
    "        return None\n",
    "    \n",
    "        \n",
    "    \n",
    "#Converts NGN to USD\n",
    "def convert_ngn_usd(naira):\n",
    "    return naira / 360\n",
    "      \n",
    "    \n",
    "#Converts a list of lists to a dict of dicts. Takes two arguments year_and_data and column_titles. year_and_data is a list of\n",
    "#lists with each list representing a single row from the table. column_titles is a list containing the titles of individual\n",
    "#columns in the table. It also has an optional year_is_first which is True by default assuming that the first cell in each row\n",
    "#in your table hold the year of the data in other cells on the same row. \n",
    "\n",
    "def year_dict_for_data_columns(year_and_data,column_titles,year_is_first=True):\n",
    "    from collections import deque\n",
    "    try:\n",
    "        dict_of_dict = {}\n",
    "        no_of_columns = len(column_titles)\n",
    "        year = None\n",
    "        \n",
    "        if year_is_first:\n",
    "            \n",
    "            for row in year_and_data:\n",
    "             \n",
    "                data = []\n",
    "                for idx,item in enumerate(row):\n",
    "                    if idx == 0:\n",
    "                        year = parse_maybe_int(item)\n",
    "                        #del(row[0])\n",
    "                        continue\n",
    "                                        \n",
    "                    elif idx == len(row)-1:\n",
    "                        data.append(parse_maybe_float(item))\n",
    "                        title_data = {}\n",
    "                        for i in range(no_of_columns):\n",
    "                            title_data[column_titles[i]] = data[i]\n",
    "                            \n",
    "                        dict_of_dict[year] = title_data    \n",
    "                        \n",
    "                    else: data.append(parse_maybe_float(item))\n",
    "                \n",
    "                \n",
    "        return dict_of_dict\n",
    "    except TypeError:\n",
    "        print('Either of the arguments is not a list')\n",
    "        return None\n",
    "    \n",
    "#Returns a country data from a list where each list represents a single country and the name of the country is first item on list    \n",
    "def find_and_return_country_data(data,country):\n",
    "    country_data = None\n",
    "    \n",
    "    for item in data:\n",
    "        if item[0] == country:\n",
    "            country_data = item\n",
    "            break\n",
    "        \n",
    "    return country_data\n",
    "\n",
    "\n",
    "#Returns a dict of the growth rates in USD of a dict of data set\n",
    "def get_growth_rate_usd(data,key=False):\n",
    "    rate_by_year = {}\n",
    "    values_list = list(data.values())\n",
    "    keys_list = list(data.keys())\n",
    "    \n",
    "    if not key:    \n",
    "        for i in range(len(values_list)):\n",
    "            if i != 0:\n",
    "                rate_by_year[keys_list[i]] = values_list[i] - values_list[i - 1]\n",
    "        return rate_by_year\n",
    "    \n",
    "    else:\n",
    "        for i in range(len(values_list)):\n",
    "            if i != 0:\n",
    "                rate_by_year[keys_list[i]] = values_list[i][key] - values_list[i - 1][key]\n",
    "        return rate_by_year\n",
    "        \n",
    "        \n",
    "#Returns a dict of the growth rates in % of a dict of data set\n",
    "def get_growth_rate_percent(data,key=False):\n",
    "    rate_by_year = {}\n",
    "    values_list = list(data.values())\n",
    "    keys_list = list(data.keys())\n",
    "    \n",
    "    if not key:    \n",
    "        for i in range(len(values_list)):\n",
    "            if i != 0:\n",
    "                rate_by_year[keys_list[i]] = ((values_list[i] - values_list[i - 1]) / values_list[i - 1]) * 100\n",
    "        return rate_by_year\n",
    "    \n",
    "    else:\n",
    "        for i in range(len(values_list)):\n",
    "            if i != 0:\n",
    "                rate_by_year[keys_list[i]] = ((values_list[i][key] - values_list[i - 1][key]) / values_list[i - 1][key]) * 100\n",
    "        return rate_by_year\n",
    "\n",
    "#NB: GDP growth percent doesn't tally with the figures posted by World Bank    \n",
    "    \n",
    "\n",
    "    \n",
    "# Searches a dict of dicts with key and returns a dict containing all values for that key.\n",
    "def fetch_data_from_nested_dict(data,key):\n",
    "    fetched_data = {}\n",
    "    for year,data_point in data.items():\n",
    "        fetched_data[year] = data_point[key]\n",
    "    return fetched_data"
   ]
  },
  {
   "cell_type": "markdown",
   "metadata": {},
   "source": [
    "###### -"
   ]
  },
  {
   "cell_type": "markdown",
   "metadata": {},
   "source": [
    "## Importing And Cleaning GDP Data"
   ]
  },
  {
   "cell_type": "code",
   "execution_count": 18,
   "metadata": {},
   "outputs": [],
   "source": [
    "   \n",
    "#Reads the gdp csv file and stores it in gdp\n",
    "gdp = open_file(r'C:\\Users\\Eva\\Documents\\Loctech\\Business Development\\Proposals\\Python Machine Learning\\Week 4\\Data Science Project 1\\20180509 Analyzing the credit worthiness of Nigeria\\1. Original Data\\GDP.csv')\n",
    "\n",
    "#Deletes the empty rows from row 1 to row 7\n",
    "del(gdp[0:7])\n",
    "\n",
    "#Deletes the remaining empty rows at the end of the document\n",
    "del(gdp[59:])\n",
    "\n",
    "\n",
    "gdp_2010_2016 = get_last_eleven_years_data(gdp,7)\n",
    "gdp_column_titles = ['GDP_growth_%',\n",
    "                     'GDP_per_capita_growth_%',\n",
    "                     'GDP_constant_lcu',\n",
    "                     'GDP_per_capita_constant_lcu',\n",
    "                     'GDP_current_lcu',\n",
    "                     'GDP_current_usd',\n",
    "                     'GDP_per_capita_current_usd',\n",
    "                     'GDP_PPP_current_usd'\n",
    "                    ]\n",
    "\n",
    "nigeria_gdp_2010_2016 =  year_dict_for_data_columns(gdp_2010_2016,gdp_column_titles)\n",
    "#pprint.pprint(nigeria_gdp_2010_2016)"
   ]
  },
  {
   "cell_type": "markdown",
   "metadata": {},
   "source": [
    "# -"
   ]
  },
  {
   "cell_type": "markdown",
   "metadata": {},
   "source": [
    "## Importing And Cleaning Budget Data"
   ]
  },
  {
   "cell_type": "code",
   "execution_count": 19,
   "metadata": {},
   "outputs": [],
   "source": [
    "budget = open_file(r'C:\\Users\\Eva\\Documents\\Loctech\\Business Development\\Proposals\\Python Machine Learning\\Week 4\\Data Science Project 1\\20180509 Analyzing the credit worthiness of Nigeria\\1. Original Data\\budget.csv')\n",
    "\n",
    "#Entering the title of the columns information was not in the original data but the source confirmed the order of the data\n",
    "column_title_list = ['recurrent_budget','capital_budget','total_budget']\n",
    "\n",
    "#Deleting 3 blank rows at the buttom of table\n",
    "del(budget[len(budget)-3:])\n",
    "\n",
    "#Get budget data for the last 11 years\n",
    "budget_2010_2016 = get_last_eleven_years_data(budget,7)\n",
    "\n",
    "#converting the list data to dictionary\n",
    "budget_2010_2016_dict_naira = year_dict_for_data_columns(budget_2010_2016, column_title_list)\n",
    "\n",
    "#Removing year 2009 since there was no data for that year\n",
    "try:\n",
    "    budget_2010_2016_dict_naira.pop(2009)\n",
    "except KeyError:\n",
    "    pass\n",
    "\n",
    "nigeria_budget_2010_2016_usd = {}\n",
    "\n",
    "for year,values in budget_2010_2016_dict_naira.items():\n",
    "    recurrent_usd = convert_ngn_usd(values['recurrent_budget'])\n",
    "    capital_usd = convert_ngn_usd(values['capital_budget'])\n",
    "    total_usd = convert_ngn_usd(values['total_budget'])\n",
    "    \n",
    "    nigeria_budget_2010_2016_usd[year] = {'recurrent_budget':recurrent_usd,\n",
    "                             'capital_budget':capital_usd,\n",
    "                             'total_budget':total_usd\n",
    "                            }\n",
    "#pprint.pprint(nigeria_budget_2010_2016_usd)"
   ]
  },
  {
   "cell_type": "markdown",
   "metadata": {},
   "source": [
    "## -"
   ]
  },
  {
   "cell_type": "markdown",
   "metadata": {},
   "source": [
    "## Importing And Cleaning External Debt Data"
   ]
  },
  {
   "cell_type": "code",
   "execution_count": 20,
   "metadata": {},
   "outputs": [],
   "source": [
    "debt = open_file(r'C:\\Users\\Eva\\Documents\\Loctech\\Business Development\\Proposals\\Python Machine Learning\\Week 4\\Data Science Project 1\\20180509 Analyzing the credit worthiness of Nigeria\\1. Original Data\\debt.csv')\n",
    "\n",
    "del(debt[0:4]) #Deletes first 4 irrelevant rows in the table\n",
    "\n",
    "debt_file_column_title = debt[0]\n",
    "\n",
    "#Return the debt data for Nigeria\n",
    "nigeria_debt_data = find_and_return_country_data(debt,'Nigeria') \n",
    "\n",
    "#Removing the first 4 columns data since I don't need it for analysis\n",
    "del(debt_file_column_title[0:4])\n",
    "del(nigeria_debt_data[0:4])\n",
    "\n",
    "#Removing the last 2 columns data since I don't need it for analysis\n",
    "del(debt_file_column_title[len(debt_file_column_title)-2:])\n",
    "del(nigeria_debt_data[len(nigeria_debt_data)-2:])\n",
    "\n",
    "#Get the debt data for the last 11 years\n",
    "debt_column_title_2010_2016 = get_last_eleven_years_data(debt_file_column_title,7)\n",
    "debt_2010_2016 = get_last_eleven_years_data(nigeria_debt_data,7)\n",
    "\n",
    "#Convert all data to the relevant data types\n",
    "debt_column_title_2010_2016 = convert_all_int_or_float(debt_column_title_2010_2016,'int')\n",
    "debt_2010_2016 = convert_all_int_or_float(debt_2010_2016,'int')\n",
    "\n",
    "\n",
    "#Create a dictionary with the various years as keys and the corresponding debts amounts as values\n",
    "nigeria_debt_2010_2016_usd = dict(zip(debt_column_title_2010_2016,debt_2010_2016))\n",
    "\n",
    "#pprint.pprint(nigeria_debt_2010_2016_usd)"
   ]
  },
  {
   "cell_type": "markdown",
   "metadata": {},
   "source": [
    "## -"
   ]
  },
  {
   "cell_type": "markdown",
   "metadata": {},
   "source": [
    "## Importing And Cleaning Foreign Reserve Data"
   ]
  },
  {
   "cell_type": "code",
   "execution_count": 21,
   "metadata": {},
   "outputs": [],
   "source": [
    "foreign_reserve = open_file(r'C:\\Users\\Eva\\Documents\\Loctech\\Business Development\\Proposals\\Python Machine Learning\\Week 4\\Data Science Project 1\\20180509 Analyzing the credit worthiness of Nigeria\\1. Original Data\\Foriegn_reserve.csv')\n",
    "\n",
    "del(foreign_reserve[0:4])\n",
    "\n",
    "foreign_reserve_column_title = foreign_reserve[0]\n",
    "\n",
    "#Search and return debt data for Nigeria.\n",
    "nigeria_foreign_reserve_data = find_and_return_country_data(foreign_reserve,'Nigeria')\n",
    "\n",
    "#Removing the first 4 columns data since it's not needed for the analysis\n",
    "del(foreign_reserve_column_title[0:4])\n",
    "del(nigeria_foreign_reserve_data[0:4])\n",
    "\n",
    "#Removing the last 2 columns data since it's not needed for the analysis\n",
    "del(foreign_reserve_column_title[len(foreign_reserve_column_title)-2:])\n",
    "del(nigeria_foreign_reserve_data[len(nigeria_foreign_reserve_data)-2:])\n",
    "\n",
    "#Get the last 11 years foreign reserve data for Nigeria.\n",
    "foreign_reserve_title_2010_2016 = get_last_eleven_years_data(foreign_reserve_column_title,7)\n",
    "nigeria_foreign_reserve_2010_2016 = get_last_eleven_years_data(nigeria_foreign_reserve_data,7)\n",
    "\n",
    "#Converts all data to appropriate data types\n",
    "foreign_reserve_title_2010_2016 = convert_all_int_or_float(foreign_reserve_title_2010_2016,'int')\n",
    "nigeria_foreign_reserve_2010_2016 = convert_all_int_or_float(nigeria_foreign_reserve_2010_2016,'float')\n",
    "\n",
    "#Create a dictionary with the various years as keys and the corresponding foreign reserves amounts as values\n",
    "nigeria_foreign_reserve_2010_2016_usd = dict(zip(foreign_reserve_title_2010_2016,nigeria_foreign_reserve_2010_2016))\n",
    "\n",
    "#pprint.pprint(nigeria_foreign_reserve_2010_2016_usd)"
   ]
  },
  {
   "cell_type": "markdown",
   "metadata": {},
   "source": [
    "## -"
   ]
  },
  {
   "cell_type": "markdown",
   "metadata": {},
   "source": [
    "## Further Cleaning of all data sets"
   ]
  },
  {
   "cell_type": "code",
   "execution_count": 22,
   "metadata": {},
   "outputs": [],
   "source": [
    "#Observing all the for data sets we have cleaned so far (nigeria_gdp_2010_2016_usd,nigeria_budget_2010_2016_usd,\n",
    "#nigeria_debt_2010_2016_usd and nigeria_foreign_reserve_2010_2016_usd) we can observe that nigeria_budget_2010_2016_usd\n",
    "#does not have any data for year 2009. So to avoid introducing error into our analysis we will exclude year 2009 from \n",
    "#all data sets we are working with\n",
    "\n",
    "try:\n",
    "    nigeria_gdp_2010_2016.pop(2009)\n",
    "    nigeria_debt_2010_2016_usd.pop(2009)\n",
    "    nigeria_foreign_reserve_2010_2016_usd.pop(2009)\n",
    "    \n",
    "except KeyError:\n",
    "    pass\n",
    "\n",
    "\n",
    "#pprint.pprint(nigeria_gdp_2010_2016)\n",
    "#pprint.pprint(nigeria_budget_2010_2016_usd)\n",
    "#pprint.pprint(nigeria_debt_2010_2016_usd)\n",
    "#pprint.pprint(nigeria_foreign_reserve_2010_2016_usd)\n",
    "\n",
    "\n",
    "#Removing year 2009 since there was no data for that year\n",
    "#budget_2010_2016_dict_naira.pop(2009)"
   ]
  },
  {
   "cell_type": "markdown",
   "metadata": {},
   "source": [
    "###### -"
   ]
  },
  {
   "cell_type": "markdown",
   "metadata": {},
   "source": [
    "## Calculating All Required Indicators"
   ]
  },
  {
   "cell_type": "code",
   "execution_count": 7,
   "metadata": {},
   "outputs": [],
   "source": [
    "# Finding the following indicators for all data sets GDP:\n",
    "#   a - individual growth rate for each year (in %)\n",
    "#   b - individual growth rate for each year (in USD)\n",
    "#   c - average growth rate for each year (in %)\n",
    "#   d - average growth rate for each year (in USD)\n",
    "#   e - total growth rate for each year (in %)\n",
    "#   f - total growth rate for each year (in USD)\n",
    "\n",
    "\n",
    "\n",
    "#Fetching GDP Growth percentage from nigeria_gdp_2010_2016\n",
    "gdp_growth_rate_percent = fetch_data_from_nested_dict(nigeria_gdp_2010_2016,'GDP_growth_%')\n",
    "\n",
    "\n",
    "#for year,gdp_data in nigeria_gdp_2010_2016.items():\n",
    "#    gdp_growth_rate_percent[year] = gdp_data['GDP_growth_%']\n",
    "\n",
    "#Remove 2010 data as it is not available for other indicators\n",
    "try:\n",
    "    gdp_growth_rate_percent.pop(2010)\n",
    "except KeyError:\n",
    "    pass\n",
    "\n",
    "#Getting the gdp growth in usd\n",
    "gdp_growth_rate_usd = get_growth_rate_usd(nigeria_gdp_2010_2016,'GDP_current_usd')\n",
    "\n",
    "gdp_yearly_growth_rates_percent = list(gdp_growth_rate_percent.values())\n",
    "gdp_yearly_growth_rates_usd = list(gdp_growth_rate_usd.values())\n",
    "\n",
    "gdp_total_growth_percent = sum(gdp_yearly_growth_rates_percent)\n",
    "gdp_total_growth_usd = sum(gdp_yearly_growth_rates_usd)\n",
    "\n",
    "gdp_av_growth_percent = sum(gdp_yearly_growth_rates_percent) / len(gdp_yearly_growth_rates_percent)\n",
    "gdp_av_growth_usd = sum(gdp_yearly_growth_rates_usd) / len(gdp_yearly_growth_rates_usd)\n",
    "\n",
    "\n",
    "#pprint.pprint(gdp_growth_rate_percent)\n",
    "#pprint.pprint(gdp_growth_rate_usd)\n",
    "#print(gdp_yearly_growth_rates_usd)\n",
    "#print(gdp_total_growth_percent)\n",
    "#print(gdp_total_growth_usd)\n",
    "#print(gdp_av_growth_percent)\n",
    "#print(gdp_av_growth_usd)"
   ]
  },
  {
   "cell_type": "code",
   "execution_count": 8,
   "metadata": {},
   "outputs": [],
   "source": [
    "# Finding the following indicators for all data sets - Budget:\n",
    "#   a - individual growth rate for each year (in %)\n",
    "#   b - individual growth rate for each year (in USD)\n",
    "#   c - average growth rate for each year (in %)\n",
    "#   d - average growth rate for each year (in USD)\n",
    "#   e - total growth rate for each year (in %)\n",
    "#   f - total growth rate for each year (in USD)\n",
    "\n",
    "budget_growth_rate_percent = get_growth_rate_percent(nigeria_budget_2010_2016_usd,'total_budget')\n",
    "\n",
    "budget_growth_rate_usd = get_growth_rate_usd(nigeria_budget_2010_2016_usd,'total_budget')\n",
    "\n",
    "\n",
    "budget_yearly_growth_rates_percent = list(budget_growth_rate_percent.values())\n",
    "budget_yearly_growth_rates_usd = list(budget_growth_rate_usd.values())\n",
    "\n",
    "budget_total_growth_percent = sum(budget_yearly_growth_rates_percent)\n",
    "budget_total_growth_usd = sum(budget_yearly_growth_rates_usd)\n",
    "\n",
    "budget_av_growth_percent = sum(budget_yearly_growth_rates_percent) / len(budget_yearly_growth_rates_percent)\n",
    "budget_av_growth_usd = sum(budget_yearly_growth_rates_usd) / len(budget_yearly_growth_rates_usd)\n",
    "\n",
    "\n",
    "#pprint.pprint(budget_growth_rate_percent)\n",
    "#pprint.pprint(budget_growth_rate_usd)\n",
    "\n",
    "#print(budget_yearly_growth_rates_usd)\n",
    "#print(budget_total_growth_percent)\n",
    "#print(budget_total_growth_usd)\n",
    "#print(budget_av_growth_percent)\n",
    "#print(budget_av_growth_usd)"
   ]
  },
  {
   "cell_type": "code",
   "execution_count": 9,
   "metadata": {},
   "outputs": [],
   "source": [
    "# Finding the following indicators for all data sets debt:\n",
    "#   a - individual growth rate for each year (in %)\n",
    "#   b - individual growth rate for each year (in USD)\n",
    "#   c - average growth rate for each year (in %)\n",
    "#   d - average growth rate for each year (in USD)\n",
    "#   e - total growth rate for each year (in %)\n",
    "#   f - total growth rate for each year (in USD)\n",
    "\n",
    "debt_growth_rate_percent = get_growth_rate_percent(nigeria_debt_2010_2016_usd)\n",
    "\n",
    "debt_growth_rate_usd = get_growth_rate_usd(nigeria_debt_2010_2016_usd)\n",
    "\n",
    "\n",
    "debt_yearly_growth_rates_percent = list(debt_growth_rate_percent.values())\n",
    "debt_yearly_growth_rates_usd = list(debt_growth_rate_usd.values())\n",
    "\n",
    "debt_total_growth_percent = sum(debt_yearly_growth_rates_percent)\n",
    "debt_total_growth_usd = sum(debt_yearly_growth_rates_usd)\n",
    "\n",
    "debt_av_growth_percent = sum(debt_yearly_growth_rates_percent) / len(debt_yearly_growth_rates_percent)\n",
    "debt_av_growth_usd = sum(debt_yearly_growth_rates_usd) / len(debt_yearly_growth_rates_usd)\n",
    "\n",
    "\n",
    "#pprint.pprint(debt_growth_rate_percent)\n",
    "#pprint.pprint(debt_growth_rate_usd)\n",
    "\n",
    "#print(debt_yearly_growth_rates_usd)\n",
    "#print(debt_total_growth_percent)\n",
    "#print(debt_total_growth_usd)\n",
    "#print(debt_av_growth_percent)\n",
    "#print(debt_av_growth_usd)"
   ]
  },
  {
   "cell_type": "code",
   "execution_count": 10,
   "metadata": {},
   "outputs": [],
   "source": [
    "# Finding the following indicators for all data sets - foreign_reserve:\n",
    "#   a - individual growth rate for each year (in %)\n",
    "#   b - individual growth rate for each year (in USD)\n",
    "#   c - average growth rate for each year (in %)\n",
    "#   d - average growth rate for each year (in USD)\n",
    "#   e - total growth rate for each year (in %)\n",
    "#   f - total growth rate for each year (in USD)\n",
    "\n",
    "foreign_reserve_growth_rate_percent = get_growth_rate_percent(nigeria_foreign_reserve_2010_2016_usd)\n",
    "\n",
    "foreign_reserve_growth_rate_usd = get_growth_rate_usd(nigeria_foreign_reserve_2010_2016_usd)\n",
    "\n",
    "\n",
    "foreign_reserve_yearly_growth_rates_percent = list(foreign_reserve_growth_rate_percent.values())\n",
    "foreign_reserve_yearly_growth_rates_usd = list(foreign_reserve_growth_rate_usd.values())\n",
    "\n",
    "foreign_reserve_total_growth_percent = sum(foreign_reserve_yearly_growth_rates_percent)\n",
    "foreign_reserve_total_growth_usd = sum(foreign_reserve_yearly_growth_rates_usd)\n",
    "\n",
    "foreign_reserve_av_growth_percent = sum(foreign_reserve_yearly_growth_rates_percent) / len(foreign_reserve_yearly_growth_rates_percent)\n",
    "foreign_reserve_av_growth_usd = sum(foreign_reserve_yearly_growth_rates_usd) / len(foreign_reserve_yearly_growth_rates_usd)\n",
    "\n",
    "\n",
    "#pprint.pprint(foreign_reserve_growth_rate_percent)\n",
    "#pprint.pprint(foreign_reserve_growth_rate_usd)\n",
    "\n",
    "#print(foreign_reserve_yearly_growth_rates_usd)\n",
    "#print(foreign_reserve_total_growth_percent)\n",
    "#print(foreign_reserve_total_growth_usd)\n",
    "#print(foreign_reserve_av_growth_percent)\n",
    "#print(foreign_reserve_av_growth_usd)"
   ]
  },
  {
   "cell_type": "markdown",
   "metadata": {},
   "source": [
    "###### -"
   ]
  },
  {
   "cell_type": "markdown",
   "metadata": {},
   "source": [
    "## Visualizing The Insights"
   ]
  },
  {
   "cell_type": "code",
   "execution_count": 11,
   "metadata": {},
   "outputs": [],
   "source": [
    "import matplotlib\n",
    "import matplotlib.pyplot as plt\n",
    "\n",
    "#Helper functions for visualization\n",
    "\n",
    "#A function that takes a list of values to be plotted and returns a list of lists. The returned list item contains two lists.\n",
    "#The first list contains only positive values while the second list contains only negative values all from the orignal list.\n",
    "#the positions where the negative values were in the orginal list is replaced with 0 in the postive list.\n",
    "#Also the positions where the positive values were in the original list is replaced with 0 in the positive list.\n",
    "\n",
    "def separate_positive_data_from_negative(data_list):\n",
    "    positive_data = []\n",
    "    negative_data = []\n",
    "\n",
    "    for data in data_list:\n",
    "        if data < 0:\n",
    "            negative_data.append(data)\n",
    "            positive_data.append(0)\n",
    "        elif data == 0:\n",
    "            negative_data.append(0)\n",
    "            positive_data.append(0)\n",
    "        else:\n",
    "            negative_data.append(0)\n",
    "            positive_data.append(data)\n",
    "            \n",
    "    return [positive_data,negative_data]\n",
    "\n",
    "#A function that a dictionary of keys:values and plots the growth rate of the values against the keys.\n",
    "\n",
    "def growth_plot(growth_rate,title,x_label='Years',y_label='Currency (in billion USD)'):\n",
    "    try:\n",
    "        years = list(growth_rate.keys())\n",
    "        \n",
    "        weighted_positive_values = [x/1000000000 for x in separate_positive_data_from_negative(list(growth_rate.values()))[0]]\n",
    "        weighted_negative_values = [x/1000000000 for x in separate_positive_data_from_negative(list(growth_rate.values()))[1]]\n",
    "\n",
    "        fig = plt.figure(1, figsize=(20,9))\n",
    "        plt.title(title)\n",
    "        plt.xlabel(x_label)\n",
    "        plt.ylabel(y_label)\n",
    "        plt.grid(True)\n",
    "        ax = plt.subplot(111)\n",
    "        ax.bar(years,weighted_negative_values, width=0.5, color='r' )\n",
    "        ax.bar(years,weighted_positive_values, width=0.5, color='b' )\n",
    "        \n",
    "    except TypeError:\n",
    "        print('Please enter the appropriate type')"
   ]
  },
  {
   "cell_type": "code",
   "execution_count": 12,
   "metadata": {},
   "outputs": [
    {
     "name": "stderr",
     "output_type": "stream",
     "text": [
      "C:\\ProgramData\\Anaconda3\\lib\\site-packages\\matplotlib\\cbook\\deprecation.py:106: MatplotlibDeprecationWarning: Adding an axes using the same arguments as a previous axes currently reuses the earlier instance.  In a future version, a new instance will always be created and returned.  Meanwhile, this warning can be suppressed, and the future behavior ensured, by passing a unique label to each axes instance.\n",
      "  warnings.warn(message, mplDeprecation, stacklevel=1)\n"
     ]
    },
    {
     "data": {
      "image/png": "[encoded data removed]",
      "text/plain": [
       "<matplotlib.figure.Figure at 0x1840253a748>"
      ]
     },
     "metadata": {},
     "output_type": "display_data"
    }
   ],
   "source": [
    "# Plotting the growth of gdp from 2010 to 2016\n",
    "\n",
    "growth_plot(gdp_growth_rate_usd,'GDP Growth Since 2010')"
   ]
  },
  {
   "cell_type": "code",
   "execution_count": 13,
   "metadata": {},
   "outputs": [
    {
     "name": "stderr",
     "output_type": "stream",
     "text": [
      "C:\\ProgramData\\Anaconda3\\lib\\site-packages\\matplotlib\\cbook\\deprecation.py:106: MatplotlibDeprecationWarning: Adding an axes using the same arguments as a previous axes currently reuses the earlier instance.  In a future version, a new instance will always be created and returned.  Meanwhile, this warning can be suppressed, and the future behavior ensured, by passing a unique label to each axes instance.\n",
      "  warnings.warn(message, mplDeprecation, stacklevel=1)\n"
     ]
    },
    {
     "data": {
      "image/png": "[encoded data removed]",
      "text/plain": [
       "<matplotlib.figure.Figure at 0x1840308c860>"
      ]
     },
     "metadata": {},
     "output_type": "display_data"
    }
   ],
   "source": [
    "# Plotting a graph of Budget growth since 2010 to 2016\n",
    "\n",
    "growth_plot(budget_growth_rate_usd,'Budget Expenditure Growth Since 2010')"
   ]
  },
  {
   "cell_type": "markdown",
   "metadata": {},
   "source": [
    "###### -"
   ]
  },
  {
   "cell_type": "code",
   "execution_count": 14,
   "metadata": {},
   "outputs": [
    {
     "name": "stderr",
     "output_type": "stream",
     "text": [
      "C:\\ProgramData\\Anaconda3\\lib\\site-packages\\matplotlib\\cbook\\deprecation.py:106: MatplotlibDeprecationWarning: Adding an axes using the same arguments as a previous axes currently reuses the earlier instance.  In a future version, a new instance will always be created and returned.  Meanwhile, this warning can be suppressed, and the future behavior ensured, by passing a unique label to each axes instance.\n",
      "  warnings.warn(message, mplDeprecation, stacklevel=1)\n"
     ]
    },
    {
     "data": {
      "text/plain": [
       "<matplotlib.legend.Legend at 0x18403899860>"
      ]
     },
     "execution_count": 14,
     "metadata": {},
     "output_type": "execute_result"
    },
    {
     "data": {
      "image/png": "[encoded data removed]",
      "text/plain": [
       "<matplotlib.figure.Figure at 0x184034ae518>"
      ]
     },
     "metadata": {},
     "output_type": "display_data"
    }
   ],
   "source": [
    "# Plotting a graph of GDP and Budget for each year\n",
    "\n",
    "\n",
    "\n",
    "    \n",
    "    \n",
    "    \n",
    "    \n",
    "years3 = list(nigeria_gdp_2010_2016.keys())\n",
    "\n",
    "gdp_values = list(fetch_data_from_nested_dict(nigeria_gdp_2010_2016,'GDP_current_usd').values())\n",
    "budget_values = list(fetch_data_from_nested_dict(nigeria_budget_2010_2016_usd,'total_budget').values())\n",
    "\n",
    "weighted_gdp_values = [x/1000000000 for x in gdp_values]\n",
    "weighted_budget_values = [x/1000000000 for x in budget_values]\n",
    "\n",
    "\n",
    "no_of_bars2 = len(years3)\n",
    "\n",
    "plt.figure(1, figsize=(20,9))\n",
    "plt.title(\"GDP (income) vs Budget (expenditure) Since 2010\")\n",
    "plt.xlabel('Years')\n",
    "plt.ylabel('Amount (in billion USD)')\n",
    "plt.grid(True)\n",
    "ax = plt.subplot(111)\n",
    "gdp_bar = ax.bar(years3,weighted_gdp_values, width=0.5, color='b', align='center')\n",
    "budget_bar = ax.bar(years3,weighted_budget_values, width=0.5, color='r', align='center')\n",
    "ax.legend ((gdp_bar, budget_bar),('GDP','Budget'))\n",
    "\n"
   ]
  },
  {
   "cell_type": "code",
   "execution_count": 15,
   "metadata": {},
   "outputs": [
    {
     "name": "stderr",
     "output_type": "stream",
     "text": [
      "C:\\ProgramData\\Anaconda3\\lib\\site-packages\\matplotlib\\cbook\\deprecation.py:106: MatplotlibDeprecationWarning: Adding an axes using the same arguments as a previous axes currently reuses the earlier instance.  In a future version, a new instance will always be created and returned.  Meanwhile, this warning can be suppressed, and the future behavior ensured, by passing a unique label to each axes instance.\n",
      "  warnings.warn(message, mplDeprecation, stacklevel=1)\n"
     ]
    },
    {
     "data": {
      "image/png": "[encoded data removed]",
      "text/plain": [
       "<matplotlib.figure.Figure at 0x1840308ccc0>"
      ]
     },
     "metadata": {},
     "output_type": "display_data"
    }
   ],
   "source": [
    "#Plotting a graph of foreign reserve growth since 2010\n",
    "\n",
    "growth_plot(foreign_reserve_growth_rate_usd,'Foreign Reserve Growth Since 2010')"
   ]
  },
  {
   "cell_type": "code",
   "execution_count": 16,
   "metadata": {},
   "outputs": [
    {
     "name": "stderr",
     "output_type": "stream",
     "text": [
      "C:\\ProgramData\\Anaconda3\\lib\\site-packages\\matplotlib\\cbook\\deprecation.py:106: MatplotlibDeprecationWarning: Adding an axes using the same arguments as a previous axes currently reuses the earlier instance.  In a future version, a new instance will always be created and returned.  Meanwhile, this warning can be suppressed, and the future behavior ensured, by passing a unique label to each axes instance.\n",
      "  warnings.warn(message, mplDeprecation, stacklevel=1)\n"
     ]
    },
    {
     "data": {
      "image/png": "[encoded data removed]",
      "text/plain": [
       "<matplotlib.figure.Figure at 0x184034a6208>"
      ]
     },
     "metadata": {},
     "output_type": "display_data"
    }
   ],
   "source": [
    "#Plotting a graph of debt increase growth since 2010\n",
    "\n",
    "growth_plot(debt_growth_rate_usd,'External Debt Growth')\n"
   ]
  },
  {
   "cell_type": "code",
   "execution_count": 17,
   "metadata": {},
   "outputs": [
    {
     "name": "stderr",
     "output_type": "stream",
     "text": [
      "C:\\ProgramData\\Anaconda3\\lib\\site-packages\\matplotlib\\cbook\\deprecation.py:106: MatplotlibDeprecationWarning: Adding an axes using the same arguments as a previous axes currently reuses the earlier instance.  In a future version, a new instance will always be created and returned.  Meanwhile, this warning can be suppressed, and the future behavior ensured, by passing a unique label to each axes instance.\n",
      "  warnings.warn(message, mplDeprecation, stacklevel=1)\n"
     ]
    },
    {
     "data": {
      "image/png": "[encoded data removed]",
      "text/plain": [
       "<matplotlib.figure.Figure at 0x18403823080>"
      ]
     },
     "metadata": {},
     "output_type": "display_data"
    }
   ],
   "source": [
    "# Plotting a graph of Foreign Reserve and debt for each year\n",
    "\n",
    "\n",
    "def combined_plot(dict_1,dict_2,name_1,name_2,title,x_label='Years',y_label='Amount (in billion USD)'):\n",
    "    x_values = list(dict_1.keys())\n",
    "\n",
    "    y1_values = list(dict_1.values())\n",
    "    y2_values = list(dict_2.values())\n",
    "    \n",
    "        \n",
    "    weighted_gdp_values = [x/1000000000 for x in y1_values]\n",
    "    weighted_budget_values = [x/1000000000 for x in y2_values]\n",
    "\n",
    "\n",
    "    #no_of_bars2 = len(years3)\n",
    "\n",
    "    plt.figure(1, figsize=(20,9))\n",
    "    plt.title(title)\n",
    "    plt.xlabel(x_label)\n",
    "    plt.ylabel(y_label)\n",
    "    plt.grid(True)\n",
    "    ax = plt.subplot(111)\n",
    "    y1_bar = ax.bar(x_values,weighted_gdp_values, width=0.5, color='b', align='center')\n",
    "    y2_bar = ax.bar(x_values,weighted_budget_values, width=0.5, color='r', align='center')\n",
    "    ax.legend ((y1_bar, y2_bar),(name_1, name_2))\n",
    "\n",
    "\n",
    "combined_plot(nigeria_foreign_reserve_2010_2016_usd, nigeria_debt_2010_2016_usd,name_1='Reserve',name_2='Debt',title=\"Foreign Reserve vs Debt Since 2010\")"
   ]
  },
  {
   "cell_type": "markdown",
   "metadata": {},
   "source": [
    "## Recommendations"
   ]
  },
  {
   "cell_type": "markdown",
   "metadata": {},
   "source": [
    "Based on the graphs we can see that the GDP has consistently grown above the Nigerian budget by a huge margin which is an indication that the country won't go bankrupt anytime soon. So we are not expecting a repeat of the situation in Greece or Venezuela in Africa's biggest economy. So with alot of budget excesses the government should have enough money to repay the debts but surprising that is not the case here. \n",
    "\n",
    "With the steady increase in GDP there has been a steady increase in debt and a decline in foreign reserves which makes me wonder what the budget excesses are used for. You might need to seek for additional data from the Nigerian government to find out how the budget excesses in these years are utilized.\n",
    "\n",
    "However I have some reservation about the Nigerian government in terms of spending discipline. Between 2012 and 2016, the GDP has grown consistently but the foreign reserve has always depreciated in thesame time frame. Also there has been a consistent rise in the debt profile of Nigeria which currently stands above $30bn. These debts could have been reduced with budget exceeses but that is not the case.\n",
    "\n",
    "I strongly recommend that you must demand to see the breakdown of government disbursements of budget excess "
   ]
  }
 ],
 "metadata": {
  "kernelspec": {
   "display_name": "Python 3",
   "language": "python",
   "name": "python3"
  },
  "language_info": {
   "codemirror_mode": {
    "name": "ipython",
    "version": 3
   },
   "file_extension": ".py",
   "mimetype": "text/x-python",
   "name": "python",
   "nbconvert_exporter": "python",
   "pygments_lexer": "ipython3",
   "version": "3.6.4"
  }
 },
 "nbformat": 4,
 "nbformat_minor": 2
}
